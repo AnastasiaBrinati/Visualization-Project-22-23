{
 "cells": [
  {
   "cell_type": "markdown",
   "id": "68d4364f",
   "metadata": {},
   "source": [
    "### Visualisation Final Project"
   ]
  },
  {
   "cell_type": "code",
   "execution_count": 1,
   "id": "74e4f585",
   "metadata": {},
   "outputs": [],
   "source": [
    "import matplotlib.pyplot as plt \n",
    "import pandas as pd \n",
    "import numpy as np \n",
    "from mpl_toolkits.mplot3d import *\n",
    "import ipywidgets as widgets\n",
    "from ipywidgets import interact\n",
    "import mplcursors\n",
    "import matplotlib.animation as animation\n",
    "from IPython.display import HTML"
   ]
  },
  {
   "cell_type": "code",
   "execution_count": 2,
   "id": "78b6dd9b",
   "metadata": {},
   "outputs": [],
   "source": [
    "pd.set_option('display.max_columns', None)\n",
    "pd.set_option('display.max_rows', None)"
   ]
  },
  {
   "cell_type": "code",
   "execution_count": 3,
   "id": "463ad7e7",
   "metadata": {},
   "outputs": [
    {
     "data": {
      "text/plain": [
       "Index(['track_name', 'artist_name', 'artist_pop', 'album', 'track_pop',\n",
       "       'danceability', 'energy', 'loudness', 'mode', 'key', 'speechiness',\n",
       "       'acousticness', 'instrumentalness', 'liveness', 'valence', 'tempo',\n",
       "       'time_signature', 'duration_ms'],\n",
       "      dtype='object')"
      ]
     },
     "execution_count": 3,
     "metadata": {},
     "output_type": "execute_result"
    }
   ],
   "source": [
    "# Read datasets.\n",
    "youtube_spotify = pd.read_csv('Spotify_Youtube.csv')\n",
    "tiktok_19 = pd.read_excel('TikTok_songs_2019.xlsx')\n",
    "tiktok_20 = pd.read_csv('TikTok_songs_2020.csv')\n",
    "tiktok_21 = pd.read_csv('TikTok_songs_2021.csv')\n",
    "tiktok_22 = pd.read_csv('TikTok_songs_2022.csv')\n",
    "tiktok = pd.concat([tiktok_19, tiktok_20], ignore_index=True, sort=False)\n",
    "tiktok = pd.concat([tiktok, tiktok_21], ignore_index=True, sort=False)\n",
    "tiktok = pd.concat([tiktok, tiktok_22], ignore_index=True, sort=False)\n",
    "tiktok.columns"
   ]
  },
  {
   "cell_type": "code",
   "execution_count": 4,
   "id": "ee65ba27",
   "metadata": {},
   "outputs": [],
   "source": [
    "# Merge Pandas DataFrames using left_on and right_on\n",
    "tracks = pd.merge(youtube_spotify, tiktok, left_on=\"Track\", right_on=\"track_name\")\n",
    "tracks = tracks.drop(['duration_ms','artist_name','instrumentalness','liveness','valence','tempo','track_name','album','danceability','energy','loudness','mode','key','speechiness','acousticness'], axis = 1)\n",
    "tracks.sort_values(by='Stream')\n",
    "\n",
    "# Deleting duplicate songs published by the same artists in the same album\n",
    "tracks = tracks.drop_duplicates(subset=['Track','Album'], keep=\"last\")\n",
    "tracks = tracks.drop_duplicates(subset=['Track','Artist'], keep=\"last\")"
   ]
  },
  {
   "cell_type": "code",
   "execution_count": 5,
   "id": "2dde583c",
   "metadata": {},
   "outputs": [],
   "source": [
    "#Removing features from dataframe.\n",
    "\n",
    "features = tracks.columns[7:].tolist()\n",
    "features.remove('Description')\n",
    "features.remove('Channel')\n",
    "features.remove('Comments')\n",
    "features.remove('Url_youtube')\n",
    "features.remove('Title')\n",
    "features.remove('official_video')\n",
    "features.remove('Stream')\n",
    "features.remove('artist_pop')\n",
    "features.remove('track_pop')\n",
    "features.remove('Views')\n",
    "features.remove('Likes')\n",
    "features.remove('Licensed')\n",
    "features.remove('time_signature')\n",
    "features.remove('Tempo')\n",
    "features.remove('Duration_ms')\n",
    "features.remove('Key')\n",
    "features.remove('Loudness')"
   ]
  },
  {
   "cell_type": "markdown",
   "id": "fa549140",
   "metadata": {},
   "source": [
    "### Task 1"
   ]
  },
  {
   "cell_type": "code",
   "execution_count": 6,
   "id": "59e0be1e",
   "metadata": {},
   "outputs": [
    {
     "data": {
      "application/vnd.jupyter.widget-view+json": {
       "model_id": "687d1a4a7df149bbbde52ec892b4de8d",
       "version_major": 2,
       "version_minor": 0
      },
      "text/plain": [
       "interactive(children=(IntSlider(value=10, description='Size', max=494, min=1), Output()), _dom_classes=('widge…"
      ]
     },
     "metadata": {},
     "output_type": "display_data"
    },
    {
     "data": {
      "text/plain": [
       "<function __main__.f(Size)>"
      ]
     },
     "execution_count": 6,
     "metadata": {},
     "output_type": "execute_result"
    }
   ],
   "source": [
    "# However in this case we are only looking at a subset of the features available, we are excluding tempo, duration and loudness\n",
    "colors = ['#ff0000','#ff8700','#be0aff','#25a244','#a1ff0a','#deff0a','#147df5']\n",
    "\n",
    "meanpointprops = dict(markeredgecolor='black',\n",
    "                      markerfacecolor='white')\n",
    "\n",
    "def f(Size):\n",
    "    # Features. \n",
    "    fig = plt.figure(figsize=(14,5))\n",
    "    ax = fig.subplots(nrows=1,ncols=3\n",
    "                         )\n",
    "    size = Size\n",
    "    platforms = ['TikTok','Spotify','YouTube']\n",
    "    \n",
    "    for i in range(len(platforms)):\n",
    "        \n",
    "        platform = platforms[i]\n",
    "\n",
    "        if platform == 'TikTok':\n",
    "            top_songs = tiktok.sort_values(by='track_pop',ascending=False).dropna()\n",
    "            attributes = [feature.lower() for feature in features]\n",
    "            color = '#EE1D52'\n",
    "        elif platform == 'YouTube':\n",
    "            color = '#c4302b'\n",
    "            attributes = features\n",
    "            top_songs = youtube_spotify.sort_values(by='Views',ascending=False).dropna()\n",
    "        elif platform == 'Spotify':\n",
    "            color = '#1DB954'\n",
    "            attributes = features\n",
    "            top_songs = youtube_spotify.sort_values(by='Stream',ascending=False).dropna()\n",
    "\n",
    "        if platform == 'TikTok':\n",
    "            songs = top_songs['track_name'][:size]\n",
    "            artists = top_songs['artist_name'][:size]\n",
    "        else:\n",
    "            songs = top_songs['Track'][:size]\n",
    "            artists = top_songs['Artist'][:size]\n",
    "\n",
    "        # Plot.\n",
    "        features_dict = {}\n",
    "        for feature in attributes:\n",
    "            features_dict[feature] = top_songs[feature][:size]\n",
    "        bplot = ax[i].boxplot(features_dict.values(),patch_artist=True,medianprops=dict(color='white'),showmeans=True,meanprops=meanpointprops)\n",
    "        color = 0\n",
    "        for patch, color in zip(bplot['boxes'], colors):\n",
    "            patch.set_facecolor(color)\n",
    "        for patch in bplot['means']:\n",
    "            patch.set_color('white')\n",
    "            \n",
    "        ax[i].set_xticklabels([feature.capitalize() for feature in features],rotation=90)\n",
    "        ax[i].set_title(platform);\n",
    "        ax[i].yaxis.grid(alpha=0.3)\n",
    "\n",
    "        ax[i].set_yticks(np.arange(0,1.05,0.1))\n",
    "        ax[i].set_ylabel('Value', size=12)\n",
    "        ax[i].set_xlabel('Features', size=12)\n",
    "    fig.suptitle('Features distribution among the top '+str(Size)+ ' songs on the various platforms')\n",
    "\n",
    "    \n",
    "interact(f, Size=widgets.IntSlider(min=1, max=len(tracks), step=1, value=10))"
   ]
  },
  {
   "cell_type": "markdown",
   "id": "c0d66db8",
   "metadata": {},
   "source": [
    "Come mostriamo chi è primo nell'ordine?"
   ]
  },
  {
   "cell_type": "markdown",
   "id": "fdbefd9c",
   "metadata": {},
   "source": [
    "## Task 3"
   ]
  },
  {
   "cell_type": "markdown",
   "id": "cf69ef89",
   "metadata": {},
   "source": [
    "Siamo indecisi tra due opzioni per aggiungere le visualizzazioni a questo task."
   ]
  },
  {
   "cell_type": "markdown",
   "id": "df9fa2dc",
   "metadata": {},
   "source": [
    "## Task 4"
   ]
  },
  {
   "cell_type": "code",
   "execution_count": 7,
   "id": "8b1793d2",
   "metadata": {},
   "outputs": [],
   "source": [
    "#tracks"
   ]
  },
  {
   "cell_type": "code",
   "execution_count": 8,
   "id": "92a868a8",
   "metadata": {},
   "outputs": [
    {
     "data": {
      "application/vnd.jupyter.widget-view+json": {
       "model_id": "23c6e311d7d44bc9a65ac3bfde37dfd2",
       "version_major": 2,
       "version_minor": 0
      },
      "text/plain": [
       "interactive(children=(IntSlider(value=2, description='Songs', max=494, min=2), Output()), _dom_classes=('widge…"
      ]
     },
     "metadata": {},
     "output_type": "display_data"
    }
   ],
   "source": [
    "###\n",
    "def f(Songs):\n",
    "\n",
    "    index_tktk = 'track_pop'\n",
    "    index_ytb = 'Likes'\n",
    "    index_sptf = 'Stream'\n",
    "\n",
    "    top_songs_t = tracks.sort_values(by=index_tktk,ascending=False).dropna()\n",
    "    top_songs_t = top_songs_t[1:Songs]\n",
    "    types = top_songs_t['Album_type'].unique()\n",
    "    \n",
    "    top_songs_y = youtube_spotify.sort_values(by=index_ytb,ascending=False).dropna()\n",
    "    top_songs_y = top_songs_y[1:Songs]\n",
    "    types = top_songs_y['Album_type'].unique()\n",
    "    \n",
    "    top_songs_s = youtube_spotify.sort_values(by=index_sptf,ascending=False).dropna()\n",
    "    top_songs_s = top_songs_s[1:Songs]\n",
    "    types = top_songs_s['Album_type'].unique()\n",
    "    \n",
    "    dict_t = {}\n",
    "    dict_y = {}\n",
    "    dict_s = {}\n",
    "    for type in types:\n",
    "        dict_t[type] = len(top_songs_t[top_songs_t['Album_type']==type])\n",
    "        dict_y[type] = len(top_songs_y[top_songs_y['Album_type']==type])\n",
    "        dict_s[type] = len(top_songs_s[top_songs_s['Album_type']==type])\n",
    "        \n",
    "    fig = plt.figure(figsize=(9,5))\n",
    "    fig.suptitle('Album type distribution for top songs');\n",
    "    ax = fig.subplots(nrows=1, ncols=3)\n",
    "    fig.tight_layout()\n",
    "\n",
    "    ax[0].pie(dict_t.values(), autopct='%1.1f%%')\n",
    "    ax[0].set_title('Album type for the top '+str(Songs)+' songs on TikTok', size = 7)\n",
    "    ax[0].legend(labels = dict_t.keys())\n",
    "    ax[1].pie(dict_s.values(), autopct='%1.1f%%')\n",
    "    ax[1].set_title('Album type for the top '+str(Songs)+' songs on Spotify', size = 7)\n",
    "    ax[1].legend(labels = dict_s.keys())\n",
    "    ax[2].pie(dict_y.values(), autopct='%1.1f%%')\n",
    "    ax[2].set_title('Album type for the top '+str(Songs)+' songs on Youtube', size = 7)\n",
    "    ax[2].legend(labels = dict_y.keys())\n",
    "    \n",
    "interact(f,Songs=widgets.IntSlider(min=2, max=len(tracks), step=1, value=1));"
   ]
  },
  {
   "cell_type": "markdown",
   "id": "852d4f3d",
   "metadata": {},
   "source": [
    "## Task 2"
   ]
  },
  {
   "cell_type": "markdown",
   "id": "84d33125",
   "metadata": {},
   "source": [
    "per youtube e spotify ci serve un solo valore per ogni feature, ha senso mostrare la media di ogni feature o la somma?"
   ]
  },
  {
   "cell_type": "code",
   "execution_count": 9,
   "id": "ac1dca0e",
   "metadata": {},
   "outputs": [
    {
     "data": {
      "application/vnd.jupyter.widget-view+json": {
       "model_id": "fbd6edc4e1cd42e6ab7be9bb27475403",
       "version_major": 2,
       "version_minor": 0
      },
      "text/plain": [
       "interactive(children=(Dropdown(description='Platform', options=('TikTok', 'Spotify', 'YouTube'), value='TikTok…"
      ]
     },
     "metadata": {},
     "output_type": "display_data"
    }
   ],
   "source": [
    "from math import pi \n",
    "\n",
    "def f(Platform):\n",
    "    fig, axs = plt.subplots(nrows=2, ncols=5,figsize=(22,9),subplot_kw=dict(projection='polar'))\n",
    "    \n",
    "    fig.suptitle(Platform+' Top Artists features')\n",
    "    # Dataset size.\n",
    "    num_artists = 10\n",
    "    \n",
    "    if Platform == 'TikTok':\n",
    "        dataset = tiktok\n",
    "        top_artists = dataset.groupby('artist_name').mean().sort_values(by='artist_pop',ascending=False).head(num_artists)\n",
    "    elif Platform == 'YouTube':\n",
    "        dataset = youtube_spotify\n",
    "        top_artists = dataset.groupby('Artist').mean().sort_values(by='Views',ascending=False).head(num_artists)\n",
    "    else:\n",
    "        dataset = youtube_spotify\n",
    "        top_artists = dataset.groupby('Artist').mean().sort_values(by='Stream',ascending=False).head(num_artists)\n",
    "    \n",
    "    artists_features = top_artists.columns.to_list()\n",
    "    \n",
    "    if Platform == 'TikTok':\n",
    "        # Features for each artist.\n",
    "        artists_features.remove('loudness')\n",
    "        artists_features.remove('mode')\n",
    "        artists_features.remove('key')\n",
    "        artists_features.remove('tempo')\n",
    "        artists_features.remove('time_signature')\n",
    "        artists_features.remove('duration_ms')\n",
    "        artists_features.remove('artist_pop')\n",
    "        artists_features.remove('track_pop')\n",
    "    else:\n",
    "        artists_features.remove('Comments')\n",
    "        artists_features.remove('Stream')\n",
    "        artists_features.remove('Views')\n",
    "        artists_features.remove('Likes')\n",
    "        artists_features.remove('Tempo')\n",
    "        artists_features.remove('Duration_ms')\n",
    "        artists_features.remove('Key')\n",
    "        artists_features.remove('Loudness')\n",
    "        artists_features = artists_features[1:]\n",
    "    top_artists = top_artists[artists_features]\n",
    "\n",
    "    # define the categories and the values\n",
    "    categories = artists_features\n",
    "    values = top_artists.iloc[0]\n",
    "\n",
    "    platform = Platform\n",
    "    artists_names = []\n",
    "    for i in range(num_artists):\n",
    "        artists_names.append(top_artists.iloc[i].name)\n",
    "\n",
    "    danceability_list = []\n",
    "    energy_list = []\n",
    "    speechiness_list = []\n",
    "    acousticness_list = []\n",
    "    instrumentalness_list = []\n",
    "    liveness_list = []\n",
    "    valence_list = []\n",
    "\n",
    "    for i in range(num_artists):\n",
    "        danceability_list.append(top_artists.iloc[i,0]) \n",
    "        energy_list.append(top_artists.iloc[i,1]) \n",
    "        speechiness_list.append(top_artists.iloc[i,2]) \n",
    "        acousticness_list.append(top_artists.iloc[i,3]) \n",
    "        instrumentalness_list.append(top_artists.iloc[i,4]) \n",
    "        liveness_list.append(top_artists.iloc[i,5]) \n",
    "        valence_list.append(top_artists.iloc[i,6]) \n",
    "    # Data.\n",
    "    df = pd.DataFrame({\n",
    "    'group': artists_names,\n",
    "    'danceability': danceability_list,\n",
    "    'energy': energy_list,\n",
    "    'speechiness': speechiness_list,\n",
    "    'acousticness': acousticness_list,\n",
    "    'instrumentalness': instrumentalness_list,\n",
    "    'liveness': liveness_list,\n",
    "    'valence': valence_list\n",
    "    })\n",
    "\n",
    "    # artists index.\n",
    "    artist_idx = 0\n",
    "\n",
    "    # colors \n",
    "    color = ['#ff0000','#ff8700','#ffd300','#deff0a','#a1ff0a','#25a244','#0aefff','#147df5','#be0aff','brown']\n",
    "    color_idx = 0\n",
    "    \n",
    "    rank = 1\n",
    "\n",
    "    # number of variable\n",
    "    categories=list(df)[1:]\n",
    "    N = len(categories)\n",
    "\n",
    "    # Ciclo su tutti i subplot e crea un Radar Chart su ognuno\n",
    "    for ax in axs.flat:\n",
    "\n",
    "        values=df.loc[artist_idx].drop('group').values.flatten().tolist()\n",
    "        values += values[:1]\n",
    "\n",
    "        # What will be the angle of each axis in the plot? (we divide the plot / number of variable)\n",
    "        angles = [n / float(N) * 2 * pi for n in range(N)]\n",
    "        angles += angles[:1]\n",
    "\n",
    "        # Initialise the spider plot\n",
    "        #ax = plt.subplot(111, polar=True)\n",
    "\n",
    "        # Draw one axe per variable + add labels\n",
    "        ax.set_xticks(angles[:-1], categories, color='grey', size=11)\n",
    "\n",
    "        # Draw ylabels\n",
    "        ax.set_rlabel_position(0)\n",
    "        ax.set_ylim(0,1.01)\n",
    "        \n",
    "\n",
    "        # Plot data\n",
    "        ax.plot(angles, values, linewidth=1, linestyle='solid',color = color[color_idx])\n",
    "\n",
    "        # Fill area\n",
    "        ax.fill(angles, values, color[color_idx], alpha=0.7)\n",
    "\n",
    "        ax.set_title(str(rank)+'.'+top_artists.iloc[artist_idx].name)\n",
    "\n",
    "        artist_idx+=1\n",
    "        color_idx +=1\n",
    "        rank += 1\n",
    "\n",
    "        ax.set_rticks(np.arange(0,1.1,0.5), color=\"red\", size=2,rotation=20)\n",
    "\n",
    "    # Aggiustamento degli spazi tra i subplot\n",
    "    fig.subplots_adjust(wspace=0.5, hspace=0.1)\n",
    "    \n",
    "interact(f,Platform=['TikTok','Spotify','YouTube'], step=1, value=1);"
   ]
  },
  {
   "cell_type": "markdown",
   "id": "213880a0",
   "metadata": {},
   "source": [
    "## Task 5"
   ]
  },
  {
   "cell_type": "code",
   "execution_count": 10,
   "id": "b2bcc0b9",
   "metadata": {},
   "outputs": [],
   "source": [
    "import warnings\n",
    "warnings.filterwarnings('ignore')"
   ]
  },
  {
   "cell_type": "code",
   "execution_count": 11,
   "id": "00baf88e",
   "metadata": {},
   "outputs": [
    {
     "data": {
      "application/vnd.jupyter.widget-view+json": {
       "model_id": "ba9792386829465e97aa941a7a262062",
       "version_major": 2,
       "version_minor": 0
      },
      "text/plain": [
       "interactive(children=(Dropdown(description='RankedBy', options=('Views', 'Likes', 'Comments'), value='Views'),…"
      ]
     },
     "metadata": {},
     "output_type": "display_data"
    }
   ],
   "source": [
    "def f(RankedBy):\n",
    "    Songs = 30\n",
    "    fig = plt.figure(figsize=(9,7))\n",
    "    ax = fig.add_subplot()\n",
    "    ax2 = ax.twiny()\n",
    "    # create data\n",
    "    size = Songs\n",
    "    top_songs = tracks.sort_values(by=RankedBy,ascending=False).dropna()\n",
    "    top_songs = top_songs[1:size]\n",
    "    \n",
    "    color_comments = '#9A031E'\n",
    "    color_likes = '#E36414'\n",
    "    color_views = '#4361ee'\n",
    "\n",
    "    x = top_songs['Title'].to_list()\n",
    "    y1 = np.array(top_songs['Likes'].to_list())\n",
    "    y2 = np.array(top_songs['Views'].to_list())\n",
    "    y3 = np.array(top_songs['Comments'].to_list())\n",
    "\n",
    "    # calculate the absolute maximum value\n",
    "    max_value = abs(y2).max()\n",
    "\n",
    "    # plot the bars\n",
    "\n",
    "    ax2.barh(x, y1, label='Likes',color=color_likes)\n",
    "    ax2.barh(x, y3, left=y1, label='Comments',color=color_comments)\n",
    "    bar_views = ax.barh(x, y2, label='Views',color=color_views)\n",
    "\n",
    "\n",
    "    # set the same y limits for both halves\n",
    "    ax.set_xlim(-max_value-1000000000, max_value+1000000000)\n",
    "\n",
    "    max_value2 = max(abs(y1).max(), abs(y3).max())\n",
    "\n",
    "    ax2.set_xlim(-max_value2-10000000, max_value2+10000000)\n",
    "\n",
    "    # add a vertical line at x=0\n",
    "    ax.axvline(x=0, color='white', linewidth=5)\n",
    "\n",
    "    ax.set_title(\"Engagement and views on top \"+str(Songs)+' songs on YouTube ranked by '+RankedBy,loc='left')\n",
    "    ax.set_xlabel(\"Values\")\n",
    "\n",
    "    ax.tick_params(axis='x', colors=color_views)\n",
    "    ax2.tick_params(axis='x', colors=color_likes)\n",
    "\n",
    "    ax.legend(loc='upper left')\n",
    "    ax2.legend()\n",
    "    ax.invert_yaxis()\n",
    "    ax.invert_xaxis()\n",
    "    ax2.set_xticks(np.arange(0,max_value2+10000000,10000000))\n",
    "    ax.set_xticks(np.arange(0,max_value+100000000*7, 1000000000))\n",
    "    #ax.set_xticklabels(['4','3','2','1','0'])\n",
    "    ax.xaxis.grid(alpha=0.4,linestyle='--')\n",
    "    ax2.xaxis.grid(alpha=0.4,linestyle='--')\n",
    "    ax.set_ymargin(0.15)\n",
    "    ax.yaxis.grid()\n",
    "\n",
    "interact(f,RankedBy = ['Views','Likes','Comments']);"
   ]
  }
 ],
 "metadata": {
  "kernelspec": {
   "display_name": "Python 3 (ipykernel)",
   "language": "python",
   "name": "python3"
  },
  "language_info": {
   "codemirror_mode": {
    "name": "ipython",
    "version": 3
   },
   "file_extension": ".py",
   "mimetype": "text/x-python",
   "name": "python",
   "nbconvert_exporter": "python",
   "pygments_lexer": "ipython3",
   "version": "3.9.13"
  }
 },
 "nbformat": 4,
 "nbformat_minor": 5
}
